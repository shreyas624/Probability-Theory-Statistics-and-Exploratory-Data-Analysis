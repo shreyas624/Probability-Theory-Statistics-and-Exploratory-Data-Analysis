{
 "cells": [
  {
   "cell_type": "code",
   "execution_count": 32,
   "id": "848a24bc",
   "metadata": {},
   "outputs": [],
   "source": [
    "from numpy.random import binomial"
   ]
  },
  {
   "cell_type": "code",
   "execution_count": 33,
   "id": "d2a88343",
   "metadata": {},
   "outputs": [
    {
     "data": {
      "text/plain": [
       "4"
      ]
     },
     "execution_count": 33,
     "metadata": {},
     "output_type": "execute_result"
    }
   ],
   "source": [
    "binomial(10, 0.3)"
   ]
  },
  {
   "cell_type": "code",
   "execution_count": 34,
   "id": "21064c78",
   "metadata": {},
   "outputs": [
    {
     "data": {
      "text/plain": [
       "array([2, 2, 3, 6, 1, 3, 3, 4, 5, 4, 3, 2, 6, 1, 4, 0, 3, 4, 4, 5, 1, 5,\n",
       "       1, 7, 0, 4, 2, 0, 3, 2, 3, 2, 5, 3, 3, 2, 1, 6, 3, 3, 2, 3, 2, 1,\n",
       "       1, 3, 3, 5, 3, 4, 2, 3, 6, 3, 5, 2, 4, 3, 6, 4, 4, 3, 1, 4, 4, 3,\n",
       "       3, 1, 4, 3, 6, 5, 1, 2, 2, 2, 2, 4, 4, 4, 4, 1, 4, 0, 5, 5, 3, 3,\n",
       "       2, 1, 1, 4, 3, 5, 5, 2, 6, 2, 1, 3])"
      ]
     },
     "execution_count": 34,
     "metadata": {},
     "output_type": "execute_result"
    }
   ],
   "source": [
    "binomial(10, 0.3, size=100)"
   ]
  },
  {
   "cell_type": "code",
   "execution_count": 35,
   "id": "424e7ae7",
   "metadata": {},
   "outputs": [],
   "source": [
    "def count_frequencies(data, relative=False):\n",
    "    counter = {}\n",
    "    for element in data:\n",
    "        if element not in counter:\n",
    "            # first encounter with this data\n",
    "            counter[element] = 1\n",
    "        else:\n",
    "            counter[element] = counter[element] + 1\n",
    "    if relative:\n",
    "        for element in counter:\n",
    "            counter[element] = counter[element] / len(data)\n",
    "    return counter"
   ]
  },
  {
   "cell_type": "code",
   "execution_count": 36,
   "id": "6b95667a",
   "metadata": {},
   "outputs": [],
   "source": [
    "sample = binomial(10, 0.3, size=10000)"
   ]
  },
  {
   "cell_type": "code",
   "execution_count": 37,
   "id": "42a778ab",
   "metadata": {},
   "outputs": [
    {
     "data": {
      "text/plain": [
       "{3: 0.2701,\n",
       " 2: 0.2341,\n",
       " 4: 0.2013,\n",
       " 5: 0.1017,\n",
       " 7: 0.0084,\n",
       " 1: 0.118,\n",
       " 0: 0.029,\n",
       " 6: 0.0362,\n",
       " 8: 0.001,\n",
       " 9: 0.0002}"
      ]
     },
     "execution_count": 37,
     "metadata": {},
     "output_type": "execute_result"
    }
   ],
   "source": [
    "count_frequencies(sample, relative=True)"
   ]
  },
  {
   "cell_type": "code",
   "execution_count": 38,
   "id": "2feaf514",
   "metadata": {},
   "outputs": [],
   "source": [
    "from scipy.stats import binom"
   ]
  },
  {
   "cell_type": "code",
   "execution_count": 39,
   "id": "cf81c85c",
   "metadata": {},
   "outputs": [],
   "source": [
    "X = binom(10, 0.3)"
   ]
  },
  {
   "cell_type": "code",
   "execution_count": 40,
   "id": "77ddff02",
   "metadata": {},
   "outputs": [
    {
     "data": {
      "text/plain": [
       "0.12106082100000018"
      ]
     },
     "execution_count": 40,
     "metadata": {},
     "output_type": "execute_result"
    }
   ],
   "source": [
    "X.pmf(1)"
   ]
  },
  {
   "cell_type": "code",
   "execution_count": 45,
   "id": "839de42a",
   "metadata": {},
   "outputs": [],
   "source": [
    "import matplotlib.pyplot as plt \n",
    "%matplotlib inline\n",
    "import numpy as np\n",
    "freqs = count_frequencies(sample, relative=True)"
   ]
  },
  {
   "cell_type": "code",
   "execution_count": 46,
   "id": "16ae66a4",
   "metadata": {},
   "outputs": [],
   "source": [
    "x = np.arange(0, 10, 0.1)"
   ]
  },
  {
   "cell_type": "code",
   "execution_count": 47,
   "id": "9ec5e95d",
   "metadata": {},
   "outputs": [
    {
     "data": {
      "text/plain": [
       "<BarContainer object of 10 artists>"
      ]
     },
     "execution_count": 47,
     "metadata": {},
     "output_type": "execute_result"
    },
    {
     "data": {
      "image/png": "[encoded data removed]",
      "text/plain": [
       "<Figure size 432x288 with 1 Axes>"
      ]
     },
     "metadata": {
      "needs_background": "light"
     },
     "output_type": "display_data"
    }
   ],
   "source": [
    "plt.plot(x, X.pmf(x), 'o', color='red')\n",
    "plt.bar(list(freqs.keys()), list(freqs.values()))"
   ]
  },
  {
   "cell_type": "code",
   "execution_count": null,
   "id": "f2136e22",
   "metadata": {},
   "outputs": [],
   "source": []
  }
 ],
 "metadata": {
  "kernelspec": {
   "display_name": "Python 3",
   "language": "python",
   "name": "python3"
  },
  "language_info": {
   "codemirror_mode": {
    "name": "ipython",
    "version": 3
   },
   "file_extension": ".py",
   "mimetype": "text/x-python",
   "name": "python",
   "nbconvert_exporter": "python",
   "pygments_lexer": "ipython3",
   "version": "3.8.8"
  }
 },
 "nbformat": 4,
 "nbformat_minor": 5
}
