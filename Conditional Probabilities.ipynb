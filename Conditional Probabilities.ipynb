{
 "cells": [
  {
   "cell_type": "code",
   "execution_count": 1,
   "id": "0f89d206",
   "metadata": {},
   "outputs": [],
   "source": [
    "from itertools import product"
   ]
  },
  {
   "cell_type": "code",
   "execution_count": 3,
   "id": "30b6061a",
   "metadata": {},
   "outputs": [
    {
     "data": {
      "text/plain": [
       "[(1, 'a'), (1, 'b'), (1, 'c'), (2, 'a'), (2, 'b'), (2, 'c')]"
      ]
     },
     "execution_count": 3,
     "metadata": {},
     "output_type": "execute_result"
    }
   ],
   "source": [
    "list(product([1, 2],['a', 'b', 'c']))"
   ]
  },
  {
   "cell_type": "code",
   "execution_count": 4,
   "id": "1b164572",
   "metadata": {},
   "outputs": [],
   "source": [
    "n = 3 # no of coin tossings\n",
    "omega = set(product(['H','T'], repeat = n))"
   ]
  },
  {
   "cell_type": "code",
   "execution_count": 5,
   "id": "d6e6c2d3",
   "metadata": {},
   "outputs": [
    {
     "data": {
      "text/plain": [
       "{('H', 'H', 'H'),\n",
       " ('H', 'H', 'T'),\n",
       " ('H', 'T', 'H'),\n",
       " ('H', 'T', 'T'),\n",
       " ('T', 'H', 'H'),\n",
       " ('T', 'H', 'T'),\n",
       " ('T', 'T', 'H'),\n",
       " ('T', 'T', 'T')}"
      ]
     },
     "execution_count": 5,
     "metadata": {},
     "output_type": "execute_result"
    }
   ],
   "source": [
    "omega"
   ]
  },
  {
   "cell_type": "code",
   "execution_count": 6,
   "id": "e748b3c2",
   "metadata": {},
   "outputs": [
    {
     "data": {
      "text/plain": [
       "8"
      ]
     },
     "execution_count": 6,
     "metadata": {},
     "output_type": "execute_result"
    }
   ],
   "source": [
    "len(omega)"
   ]
  },
  {
   "cell_type": "code",
   "execution_count": 11,
   "id": "9a22e138",
   "metadata": {},
   "outputs": [],
   "source": [
    "A = {om for om in omega if om[0] == 'T'} # first toss is tails\n",
    "B = {om for om in omega if om.count('T') == 2} # Tails comes twice"
   ]
  },
  {
   "cell_type": "code",
   "execution_count": 12,
   "id": "bd5a1f10",
   "metadata": {},
   "outputs": [
    {
     "data": {
      "text/plain": [
       "{('T', 'H', 'H'), ('T', 'H', 'T'), ('T', 'T', 'H'), ('T', 'T', 'T')}"
      ]
     },
     "execution_count": 12,
     "metadata": {},
     "output_type": "execute_result"
    }
   ],
   "source": [
    "A"
   ]
  },
  {
   "cell_type": "code",
   "execution_count": 13,
   "id": "e405dd2f",
   "metadata": {},
   "outputs": [
    {
     "data": {
      "text/plain": [
       "{('H', 'T', 'T'), ('T', 'H', 'T'), ('T', 'T', 'H')}"
      ]
     },
     "execution_count": 13,
     "metadata": {},
     "output_type": "execute_result"
    }
   ],
   "source": [
    "B"
   ]
  },
  {
   "cell_type": "code",
   "execution_count": 15,
   "id": "70ff3b2e",
   "metadata": {},
   "outputs": [],
   "source": [
    "def prob(X):\n",
    "    return len(X) / len(omega)"
   ]
  },
  {
   "cell_type": "code",
   "execution_count": 16,
   "id": "e67fcb1b",
   "metadata": {},
   "outputs": [],
   "source": [
    "def cond_prob(X , Y):\n",
    "    return len(X & Y) / len(Y)"
   ]
  },
  {
   "cell_type": "code",
   "execution_count": 17,
   "id": "b040e24a",
   "metadata": {},
   "outputs": [
    {
     "data": {
      "text/plain": [
       "0.5"
      ]
     },
     "execution_count": 17,
     "metadata": {},
     "output_type": "execute_result"
    }
   ],
   "source": [
    "prob(A)"
   ]
  },
  {
   "cell_type": "code",
   "execution_count": 18,
   "id": "b06c2900",
   "metadata": {},
   "outputs": [
    {
     "data": {
      "text/plain": [
       "0.6666666666666666"
      ]
     },
     "execution_count": 18,
     "metadata": {},
     "output_type": "execute_result"
    }
   ],
   "source": [
    "cond_prob(A , B)"
   ]
  },
  {
   "cell_type": "code",
   "execution_count": 19,
   "id": "2902f6e0",
   "metadata": {},
   "outputs": [
    {
     "data": {
      "text/plain": [
       "0.375"
      ]
     },
     "execution_count": 19,
     "metadata": {},
     "output_type": "execute_result"
    }
   ],
   "source": [
    "prob(B)"
   ]
  },
  {
   "cell_type": "code",
   "execution_count": 25,
   "id": "8e83b106",
   "metadata": {},
   "outputs": [],
   "source": [
    "def if_ind(X , Y):\n",
    "    if cond_prob(X , Y) == prob(X) * prob(Y):\n",
    "        print(\"True\")\n",
    "    else:\n",
    "        print(\"False\")"
   ]
  },
  {
   "cell_type": "code",
   "execution_count": 26,
   "id": "4db2a0ee",
   "metadata": {},
   "outputs": [
    {
     "name": "stdout",
     "output_type": "stream",
     "text": [
      "False\n"
     ]
    }
   ],
   "source": [
    "if_ind(A , B)"
   ]
  },
  {
   "cell_type": "code",
   "execution_count": 27,
   "id": "3e00ee0e",
   "metadata": {},
   "outputs": [],
   "source": [
    "C = {om for om in omega if om[1] == 'H'} # second toss id head"
   ]
  },
  {
   "cell_type": "code",
   "execution_count": 28,
   "id": "3e35bf2b",
   "metadata": {},
   "outputs": [
    {
     "data": {
      "text/plain": [
       "{('H', 'H', 'H'), ('H', 'H', 'T'), ('T', 'H', 'H'), ('T', 'H', 'T')}"
      ]
     },
     "execution_count": 28,
     "metadata": {},
     "output_type": "execute_result"
    }
   ],
   "source": [
    "C"
   ]
  },
  {
   "cell_type": "code",
   "execution_count": 30,
   "id": "a76bc2ee",
   "metadata": {},
   "outputs": [
    {
     "name": "stdout",
     "output_type": "stream",
     "text": [
      "False\n"
     ]
    }
   ],
   "source": [
    "if_ind(A , C)"
   ]
  },
  {
   "cell_type": "code",
   "execution_count": null,
   "id": "6dde22a8",
   "metadata": {},
   "outputs": [],
   "source": []
  }
 ],
 "metadata": {
  "kernelspec": {
   "display_name": "Python 3",
   "language": "python",
   "name": "python3"
  },
  "language_info": {
   "codemirror_mode": {
    "name": "ipython",
    "version": 3
   },
   "file_extension": ".py",
   "mimetype": "text/x-python",
   "name": "python",
   "nbconvert_exporter": "python",
   "pygments_lexer": "ipython3",
   "version": "3.8.8"
  }
 },
 "nbformat": 4,
 "nbformat_minor": 5
}
