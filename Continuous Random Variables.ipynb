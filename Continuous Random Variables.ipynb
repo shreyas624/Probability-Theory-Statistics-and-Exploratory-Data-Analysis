{
 "cells": [
  {
   "cell_type": "code",
   "execution_count": 1,
   "id": "1597dfca",
   "metadata": {},
   "outputs": [],
   "source": [
    "from numpy.random import uniform"
   ]
  },
  {
   "cell_type": "code",
   "execution_count": 3,
   "id": "ee002746",
   "metadata": {},
   "outputs": [
    {
     "data": {
      "text/plain": [
       "array([ 1.84125665,  1.46162126,  0.99410826,  1.99577604,  0.81115845,\n",
       "        0.02573073,  1.2509552 ,  1.06201633, -0.83503414,  0.99813474])"
      ]
     },
     "execution_count": 3,
     "metadata": {},
     "output_type": "execute_result"
    }
   ],
   "source": [
    "uniform(low=-2, high=2, size=10)"
   ]
  },
  {
   "cell_type": "code",
   "execution_count": 6,
   "id": "1c23a4d7",
   "metadata": {},
   "outputs": [],
   "source": [
    "import matplotlib.pyplot as plt"
   ]
  },
  {
   "cell_type": "code",
   "execution_count": 12,
   "id": "043a5477",
   "metadata": {},
   "outputs": [],
   "source": [
    "data = [1, 3, 4.1, 4.2, 4.3, 5]"
   ]
  },
  {
   "cell_type": "code",
   "execution_count": 13,
   "id": "05e07785",
   "metadata": {},
   "outputs": [
    {
     "data": {
      "text/plain": [
       "[<matplotlib.lines.Line2D at 0x7fc6d8924580>]"
      ]
     },
     "execution_count": 13,
     "metadata": {},
     "output_type": "execute_result"
    },
    {
     "data": {
      "image/png": "[encoded data removed]",
      "text/plain": [
       "<Figure size 432x288 with 1 Axes>"
      ]
     },
     "metadata": {
      "needs_background": "light"
     },
     "output_type": "display_data"
    }
   ],
   "source": [
    "plt.hist(data, bins=3, density=True)\n",
    "plt.plot(data, [0.1]*len(data), 'o')"
   ]
  },
  {
   "cell_type": "code",
   "execution_count": 17,
   "id": "4beae945",
   "metadata": {},
   "outputs": [
    {
     "data": {
      "text/plain": [
       "(array([0.24456605, 0.23156253, 0.25731949, 0.25506888, 0.24631652,\n",
       "        0.24981746, 0.25306834, 0.24406591, 0.2618207 , 0.25706942]),\n",
       " array([-1.99949102e+00, -1.59959904e+00, -1.19970706e+00, -7.99815083e-01,\n",
       "        -3.99923103e-01, -3.11237775e-05,  3.99860856e-01,  7.99752836e-01,\n",
       "         1.19964482e+00,  1.59953679e+00,  1.99942877e+00]),\n",
       " <BarContainer object of 10 artists>)"
      ]
     },
     "execution_count": 17,
     "metadata": {},
     "output_type": "execute_result"
    },
    {
     "data": {
      "image/png": "[encoded data removed]",
      "text/plain": [
       "<Figure size 432x288 with 1 Axes>"
      ]
     },
     "metadata": {
      "needs_background": "light"
     },
     "output_type": "display_data"
    }
   ],
   "source": [
    "sample = uniform(low=-2, high=2, size=10000)\n",
    "plt.hist(sample, density=True)"
   ]
  },
  {
   "cell_type": "code",
   "execution_count": 18,
   "id": "6ff65461",
   "metadata": {},
   "outputs": [],
   "source": [
    "import scipy.stats"
   ]
  },
  {
   "cell_type": "code",
   "execution_count": 21,
   "id": "8c18b190",
   "metadata": {},
   "outputs": [],
   "source": [
    "X = scipy.stats.uniform(-2,4)"
   ]
  },
  {
   "cell_type": "code",
   "execution_count": 22,
   "id": "198d6375",
   "metadata": {},
   "outputs": [
    {
     "data": {
      "text/plain": [
       "0.25"
      ]
     },
     "execution_count": 22,
     "metadata": {},
     "output_type": "execute_result"
    }
   ],
   "source": [
    "X.pdf(1.2)"
   ]
  },
  {
   "cell_type": "code",
   "execution_count": 23,
   "id": "49dc0993",
   "metadata": {},
   "outputs": [],
   "source": [
    "import numpy as np"
   ]
  },
  {
   "cell_type": "code",
   "execution_count": 24,
   "id": "77d01b4a",
   "metadata": {},
   "outputs": [],
   "source": [
    "x = np.linspace(-3, 3, 100)"
   ]
  },
  {
   "cell_type": "code",
   "execution_count": 27,
   "id": "b0fa8156",
   "metadata": {},
   "outputs": [
    {
     "data": {
      "text/plain": [
       "(array([0.25872678, 0.25275174, 0.2478017 , 0.24230166, 0.2481767 ,\n",
       "        0.25012672, 0.24890171, 0.25225173, 0.24902671, 0.24995172]),\n",
       " array([-1.99998932e+00, -1.59999207e+00, -1.19999482e+00, -7.99997564e-01,\n",
       "        -4.00000312e-01, -3.05944532e-06,  3.99994193e-01,  7.99991445e-01,\n",
       "         1.19998870e+00,  1.59998595e+00,  1.99998320e+00]),\n",
       " <BarContainer object of 10 artists>)"
      ]
     },
     "execution_count": 27,
     "metadata": {},
     "output_type": "execute_result"
    },
    {
     "data": {
      "image/png": "[encoded data removed]",
      "text/plain": [
       "<Figure size 432x288 with 1 Axes>"
      ]
     },
     "metadata": {
      "needs_background": "light"
     },
     "output_type": "display_data"
    }
   ],
   "source": [
    "plt.plot(x, X.pdf(x))\n",
    "sample = uniform(low=-2, high=2, size=100000)\n",
    "plt.hist(sample, density=True)"
   ]
  },
  {
   "cell_type": "code",
   "execution_count": null,
   "id": "ff9ce751",
   "metadata": {},
   "outputs": [],
   "source": []
  }
 ],
 "metadata": {
  "kernelspec": {
   "display_name": "Python 3",
   "language": "python",
   "name": "python3"
  },
  "language_info": {
   "codemirror_mode": {
    "name": "ipython",
    "version": 3
   },
   "file_extension": ".py",
   "mimetype": "text/x-python",
   "name": "python",
   "nbconvert_exporter": "python",
   "pygments_lexer": "ipython3",
   "version": "3.8.8"
  }
 },
 "nbformat": 4,
 "nbformat_minor": 5
}
